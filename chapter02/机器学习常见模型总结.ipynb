{
 "cells": [
  {
   "cell_type": "markdown",
   "metadata": {},
   "source": [
    "# 最近邻\n",
    "适用于小型数据集，是很好的基准模型，很容易解释。\n",
    "# 线性模型\n",
    "非常可靠的首选算法，适用于非常大的数据集，也适用于高维数据。\n",
    "# 朴素贝叶斯\n",
    "只适用于分类问题。比线性模型速度还快，适用于非常大的数据集合高维数据。精度通常要低于线性模型。\n",
    "# 决策树\n",
    "速度很快，不需要缩放，可以可视化，很容易解释。\n",
    "# 随机森林\n",
    "几乎总是比单棵决策树的表现要好，鲁棒性很好，非常强大。不需要数据缩放。不适用于高维稀疏数据。\n",
    "# 梯度提升决策树\n",
    "精度通常要比随机森林略高。与随机森林相比，训练速度更慢，但预测速度更快，需要的内存也更少。比随机森林需要更多的参数调节。\n",
    "# 支持向量机\n",
    "对于特征含义相似的中等大小的数据集很强大。需要数据缩放，对参数敏感。\n",
    "# 神经网络\n",
    "可以构建非常复杂的模型，特别是对于大型数据集而言。对数据缩放敏感，对参数选取敏感。大型网络需要很长的训练时间。\n",
    "\n",
    "面对新数据集，通常最好从简单模型开始，比如线性模型、朴素贝叶斯或最近邻分类器，看能得到什么样的结果。对数据进一步了解之后，你可以考虑用于构建更复杂模型的算法，比如随机森林、梯度提升决策树、SVM或神经网络。"
   ]
  },
  {
   "cell_type": "code",
   "execution_count": null,
   "metadata": {},
   "outputs": [],
   "source": []
  }
 ],
 "metadata": {
  "kernelspec": {
   "display_name": "Python 3",
   "language": "python",
   "name": "python3"
  },
  "language_info": {
   "codemirror_mode": {
    "name": "ipython",
    "version": 3
   },
   "file_extension": ".py",
   "mimetype": "text/x-python",
   "name": "python",
   "nbconvert_exporter": "python",
   "pygments_lexer": "ipython3",
   "version": "3.7.1"
  }
 },
 "nbformat": 4,
 "nbformat_minor": 2
}
